{
 "cells": [
  {
   "cell_type": "code",
   "execution_count": 17,
   "id": "6fa19040-e81d-4c37-be03-c93d8ccff480",
   "metadata": {},
   "outputs": [],
   "source": [
    "class FuncionesParaElBot:\n",
    "\n",
    "    def __init__(self):\n",
    "        self.numeros_lista_nueva = []\n",
    "\n",
    "    def ordenar_numeros_mayor_a_menor(self, numeros):\n",
    "        \"\"\"\n",
    "        Return a list number\n",
    "        \"\"\"\n",
    "        \n",
    "        for i in numeros.split():\n",
    "            self.numeros_lista_nueva.append(int(i))\n",
    "\n",
    "        resultado = sorted(self.numeros_lista_nueva)\n",
    "\n",
    "        return resultado"
   ]
  },
  {
   "cell_type": "code",
   "execution_count": 19,
   "id": "46078a1f-79b5-4452-9863-3913a12028f3",
   "metadata": {},
   "outputs": [
    {
     "data": {
      "text/plain": [
       "[1, 2, 5]"
      ]
     },
     "execution_count": 19,
     "metadata": {},
     "output_type": "execute_result"
    }
   ],
   "source": [
    "numbers = \"1 5 2\"\n",
    "\n",
    "my_funct = FuncionesParaElBot()\n",
    "my_funct.ordenar_numeros_mayor_a_menor(numbers)"
   ]
  },
  {
   "cell_type": "code",
   "execution_count": 38,
   "id": "b8a49ce2-15b5-4b2f-a15f-282b2fe28c97",
   "metadata": {},
   "outputs": [],
   "source": [
    "class BotMessages(FuncionesParaElBot):\n",
    "    \n",
    "    def __init__(self):\n",
    "        self.bienvenida = \"hola! estoy para ayudarte a ordenar esos numeros, socio\"\n",
    "        self.instructivo_1 = \"\"\"\n",
    "        Escribe solo numeros enteros\n",
    "        Serapa cada numero con un espacio\n",
    "        Envia el mensaje\n",
    "        \"\"\"\n",
    "\n",
    "    def mensaje_bienvenida(self, message_text):\n",
    "        if message_text in ('hola', 'hi', 'perro'):\n",
    "            return self.bienvenida , self.instructivo_1\n",
    "        return \"i don't understand you\"\n",
    "\n",
    "        \n",
    "    def mensaje_instrucciones(self):\n",
    "        pass"
   ]
  },
  {
   "cell_type": "code",
   "execution_count": 39,
   "id": "9568530e-2152-43a6-937e-7f4bd22f2db2",
   "metadata": {},
   "outputs": [
    {
     "data": {
      "text/plain": [
       "('hola! estoy para ayudarte a ordenar esos numeros, socio',\n",
       " '\\n        Escribe solo numeros enteros\\n        Serapa cada numero con un espacio\\n        Envia el mensaje\\n        ')"
      ]
     },
     "execution_count": 39,
     "metadata": {},
     "output_type": "execute_result"
    }
   ],
   "source": [
    "mensaje_bot = BotMessages()\n",
    "mensaje_bot.mensaje_bienvenida(\"hola\")\n"
   ]
  }
 ],
 "metadata": {
  "kernelspec": {
   "display_name": "Python 3 (ipykernel)",
   "language": "python",
   "name": "python3"
  },
  "language_info": {
   "codemirror_mode": {
    "name": "ipython",
    "version": 3
   },
   "file_extension": ".py",
   "mimetype": "text/x-python",
   "name": "python",
   "nbconvert_exporter": "python",
   "pygments_lexer": "ipython3",
   "version": "3.10.12"
  }
 },
 "nbformat": 4,
 "nbformat_minor": 5
}
