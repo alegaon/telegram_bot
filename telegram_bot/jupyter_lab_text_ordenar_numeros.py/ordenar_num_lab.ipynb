{
 "cells": [
  {
   "cell_type": "code",
   "execution_count": 4,
   "id": "d8131c65-21f1-44aa-967f-6fe90aeaba54",
   "metadata": {},
   "outputs": [
    {
     "data": {
      "text/plain": [
       "[1, 2, 5]"
      ]
     },
     "execution_count": 4,
     "metadata": {},
     "output_type": "execute_result"
    }
   ],
   "source": [
    "def orden_numeros(listita):\n",
    "    return sorted(listita)\n",
    "    \n",
    "lista_desordenada = 1, 5, 2\n",
    "\n",
    "orden_numeros(lista_desordenada)"
   ]
  },
  {
   "cell_type": "markdown",
   "id": "addde1d0-4713-497c-9058-1139a9b77170",
   "metadata": {},
   "source": [
    "# pasos para interactuar con el ORDENADOR DE NUMEROS SUPREMO -250 a.D.\n",
    "\n",
    "1. mensaje de bienvenida\n",
    "2. instruciones\n",
    "3. listo para comenzar\n",
    "4. manejar errores\n",
    "5. mostrar resultado\n",
    "6. finalizar\n",
    "7. preguntar si quiere seguir \n"
   ]
  },
  {
   "cell_type": "code",
   "execution_count": null,
   "id": "b1da8f67-703f-4175-817b-e6a77efa5f05",
   "metadata": {},
   "outputs": [],
   "source": [
    "# mensaje de bienvenida\n",
    "\n",
    "print(\"hola! estoy para ayudarte a ordenar esos numeros, socio\")"
   ]
  },
  {
   "cell_type": "code",
   "execution_count": null,
   "id": "d758572c-1284-4076-9aff-ded7aef2db61",
   "metadata": {},
   "outputs": [],
   "source": [
    "# 2. instrucciones\n",
    "\n",
    "print('# Escribe solo numeros enteros')\n",
    "print('# Serapa cada numero son un espacio')\n",
    "print(\"# Envia el mensaje\")"
   ]
  },
  {
   "cell_type": "code",
   "execution_count": 23,
   "id": "3016d7d6-2909-4efd-a9f7-c86beb786bd4",
   "metadata": {},
   "outputs": [
    {
     "data": {
      "text/plain": [
       "[2, 8, 78]"
      ]
     },
     "execution_count": 23,
     "metadata": {},
     "output_type": "execute_result"
    }
   ],
   "source": [
    "# 3. listo para comenzar\n",
    "\n",
    "numeros_lista_nueva = []\n",
    "\n",
    "numeros = \"8 78 2\"\n",
    "for i in numeros.split():\n",
    "    numeros_lista_nueva.append(int(i))\n",
    "\n",
    "resultado = sorted(numeros_lista_nueva)\n"
   ]
  }
 ],
 "metadata": {
  "kernelspec": {
   "display_name": "Python 3 (ipykernel)",
   "language": "python",
   "name": "python3"
  },
  "language_info": {
   "codemirror_mode": {
    "name": "ipython",
    "version": 3
   },
   "file_extension": ".py",
   "mimetype": "text/x-python",
   "name": "python",
   "nbconvert_exporter": "python",
   "pygments_lexer": "ipython3",
   "version": "3.10.12"
  }
 },
 "nbformat": 4,
 "nbformat_minor": 5
}
